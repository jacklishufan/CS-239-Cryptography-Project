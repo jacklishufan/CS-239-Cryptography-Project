{
 "cells": [
  {
   "cell_type": "code",
   "execution_count": null,
   "metadata": {},
   "outputs": [],
   "source": [
    "import re\n",
    "\n",
    "f = open(\"out\").read()\n",
    "\n",
    "preprocess = re.findall(r\"Preprocessed query to 100-document corpus in: ([0-9].+)s\", f)\n",
    "preprocess = [float(preprocess[i]) for i in range(len(preprocess))]\n",
    "\n",
    "answer = re.findall(r\"Answered query to 100-document corpus in: ([0-9].+)µs: ([0-9].+)s\", f)\n",
    "answer = [float(answer[i]) for i in range(len(answer))]\n",
    "\n",
    "upload = re.findall(r\"Upload: ([0-9].+)µs: ([0-9].+) MB\", f)\n",
    "upload = [float(upload[i]) for i in range(len(upload))]\n",
    "\n",
    "download = re.findall(r\"Download: ([0-9].+)µs: ([0-9].+) MB\", f)\n",
    "download = [float(download[i]) for i in range(len(download))]\n",
    "\n",
    "print(sum(preprocess) / len(preprocess))\n",
    "print(sum(answer) / len(answer))\n",
    "print(sum(upload) / len(upload))\n",
    "print(sum(download) / len(download))"
   ]
  }
 ],
 "metadata": {
  "kernelspec": {
   "display_name": "cs239",
   "language": "python",
   "name": "python3"
  },
  "language_info": {
   "name": "python",
   "version": "3.9.20"
  }
 },
 "nbformat": 4,
 "nbformat_minor": 2
}
